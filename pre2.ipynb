{
 "cells": [
  {
   "cell_type": "markdown",
   "metadata": {},
   "source": [
    "# 第2回予習課題"
   ]
  },
  {
   "cell_type": "markdown",
   "metadata": {},
   "source": [
    "## 1. リストの処理\n",
    "\n",
    "同じ値の要素を含まないリスト ln とそれに含まれる要素 x と y が与えられたとき、 ln の中で x と y の間に挟まれた要素から成るリストを返す関数 `between(ln, x, y)` を作成して下さい。ただし、返すリストに x と y は含めます。また、 ln の中で y が x よりも先に出現する場合にも対応して下さい。\n",
    "\n",
    "以下のセルの `...` のところを書き換えて `between(ln, x, y)` を作成して下さい。\n",
    "\n",
    "Define a function called `between(ln, x, y)`. In case of a list `ln` and its elements `x` and `y`  are given, `between(ln, x, y)` returns a list that consists of the list `ln` elements between `x` and `y`. Note that `x` and `y` must be included in the list returned.\n",
    "\n",
    "Complete `between(ln, x, y)` rewriting by `...` part in the cell bellow."
   ]
  },
  {
   "cell_type": "code",
   "execution_count": 1,
   "metadata": {},
   "outputs": [],
   "source": [
    "def between(ln, x, y):\n",
    "    ind = []\n",
    "    for index, i in enumerate(ln):\n",
    "        if(x == i or y == i):\n",
    "            ind.append(index)\n",
    "    return ln[ind[0]:ind[1]+1]        "
   ]
  },
  {
   "cell_type": "markdown",
   "metadata": {},
   "source": [
    "上のセルで解答を作成した後、以下のセルを実行し、実行結果が全て True になることを確認して下さい。"
   ]
  },
  {
   "cell_type": "code",
   "execution_count": 2,
   "metadata": {},
   "outputs": [
    {
     "name": "stdout",
     "output_type": "stream",
     "text": [
      "True\n",
      "True\n"
     ]
    }
   ],
   "source": [
    "print(between([20, 10, 50, 30, 40], 10, 30) == [10, 50, 30])\n",
    "print(between([\"a\", \"b\", \"c\", \"d\", \"e\"], \"e\", \"c\") == [\"c\", \"d\", \"e\"])"
   ]
  },
  {
   "cell_type": "markdown",
   "metadata": {},
   "source": [
    "## 2. 文字列と辞書\n",
    "\n",
    "与えられた英文に含まれる主要母音文字 A E I O および U の文字をそれぞれ数え、文字をキーに出現頻度を値とする、辞書を返す関数、`vowels_count`を定義してください。英文として `Is this a pen?` が与えられると、これには \"I\" が 2 回, \"A\", \"E\" が 1 回、\"U\", \"O\" が 0 回含まれており、`vowels_count` は `{'I':2, 'A':1, 'E':1, 'U':0, 'O':0}` を返します。`vowels_count` は大文字小文字を区別しない関数とします。\n",
    "\n",
    "Define a function called `vowels_count` that counts major ascii vowel characters, i.e. A, E, I, O and U in a given english string.  `vowels_count` returns a dictionary as the character for the key, and the freqnency number for the value.\n",
    "In case of `Is this a pen?` is given, since it includes two for \"I\", one for \"A\" and \"E\", and zero for \"U\" and \"O\", `vowel_count` returns a dictionary, such as  `{'I':2, 'A':1, 'E':1, 'U':0, 'O':0}`. Note that `vowels_count` is a case **insensitive** function.  "
   ]
  },
  {
   "cell_type": "code",
   "execution_count": 3,
   "metadata": {},
   "outputs": [],
   "source": [
    "def vowels_count(s):\n",
    "    s = s.upper()\n",
    "    dic = {'I':s.count('I'),'A':s.count('A'), 'E':s.count('E'), 'U':s.count('U'), 'O':s.count('O'),}\n",
    "    return dic"
   ]
  },
  {
   "cell_type": "markdown",
   "metadata": {},
   "source": [
    "上のセルで解答を作成した後、以下のセルを実行し、実行結果が True になることを確認して下さい。"
   ]
  },
  {
   "cell_type": "code",
   "execution_count": 4,
   "metadata": {},
   "outputs": [
    {
     "data": {
      "text/plain": [
       "True"
      ]
     },
     "execution_count": 4,
     "metadata": {},
     "output_type": "execute_result"
    }
   ],
   "source": [
    "vowels_count(\"Is this a pen?\") == {'I':2, 'A':1, 'E':1, 'U':0, 'O':0}"
   ]
  },
  {
   "cell_type": "code",
   "execution_count": null,
   "metadata": {
    "collapsed": true
   },
   "outputs": [],
   "source": []
  }
 ],
 "metadata": {
  "kernelspec": {
   "display_name": "Python 3",
   "language": "python",
   "name": "python3"
  },
  "language_info": {
   "codemirror_mode": {
    "name": "ipython",
    "version": 3
   },
   "file_extension": ".py",
   "mimetype": "text/x-python",
   "name": "python",
   "nbconvert_exporter": "python",
   "pygments_lexer": "ipython3",
   "version": "3.6.5"
  }
 },
 "nbformat": 4,
 "nbformat_minor": 2
}
