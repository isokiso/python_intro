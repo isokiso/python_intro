{
 "cells": [
  {
   "cell_type": "markdown",
   "metadata": {},
   "source": [
    "# 第1回本課題\n",
    "\n",
    "三角形の三辺の長さとなるべき非負の整数 `a`, `b`, `c` をもらって、\n",
    "* 三辺が三角形を構成しないならば 0\n",
    "* 三辺が構成する三角形が鋭角三角形ならば1\n",
    "* 三辺が構成する三角形が直角三角形ならば2\n",
    "* 三辺が構成する三角形が鈍角三角形ならば3\n",
    "\n",
    "を返す関数 `triangle(a,b,c)` を定義してください。\n",
    "\n",
    "以下のセルの `...` のところを書き換えてください。"
   ]
  },
  {
   "cell_type": "markdown",
   "metadata": {},
   "source": [
    "Define a fuction `triangle(a,b,c)`, which takes three positive side lengths $a$, $b$, $c$ of a triangle as the arguments, and returns the following values:\n",
    "* 0 if the three side lengths do not satisfy the triangle inequality,\n",
    "* 1 if the three side lengths form an acute triangle,\n",
    "* 2 if the three side lengths form a right triangle,\n",
    "* 3 if the three side lengths form an obtuse triangle."
   ]
  },
  {
   "cell_type": "code",
   "execution_count": 1,
   "metadata": {},
   "outputs": [],
   "source": [
    "def triangle(a,b,c):\n",
    "    src = [a,b,c]\n",
    "    line = sorted(src, reverse=True)\n",
    "    if(line[0] >= line[1] + line[2] ):\n",
    "        return 0\n",
    "    elif(line[0]**2 == line[1]**2 + line[2]**2):\n",
    "        return 2\n",
    "    elif(line[0]**2 < line[1]**2 + line[2]**2):\n",
    "        return 1\n",
    "    elif(line[0]**2 > line[1]**2 + line[2]**2):\n",
    "        return 3\n",
    "    else:\n",
    "        print('something wrong')\n",
    "        return 4"
   ]
  },
  {
   "cell_type": "markdown",
   "metadata": {},
   "source": [
    "以下のセルによってテストしてください。\n",
    "\n",
    "Test your function by executing the following cell."
   ]
  },
  {
   "cell_type": "code",
   "execution_count": 2,
   "metadata": {},
   "outputs": [
    {
     "name": "stdout",
     "output_type": "stream",
     "text": [
      "True\n",
      "True\n",
      "True\n",
      "True\n",
      "True\n",
      "True\n"
     ]
    }
   ],
   "source": [
    "print(triangle(3,6,5) == 3)\n",
    "print(triangle(3,4,5) == 2)\n",
    "print(triangle(4,3,3) == 1)\n",
    "print(triangle(1,1,3) == 0)\n",
    "print(triangle(1,2,1) == 0)\n",
    "print(triangle(3,2,1) == 0)"
   ]
  },
  {
   "cell_type": "code",
   "execution_count": null,
   "metadata": {},
   "outputs": [],
   "source": []
  }
 ],
 "metadata": {
  "kernelspec": {
   "display_name": "Python 3",
   "language": "python",
   "name": "python3"
  },
  "language_info": {
   "codemirror_mode": {
    "name": "ipython",
    "version": 3
   },
   "file_extension": ".py",
   "mimetype": "text/x-python",
   "name": "python",
   "nbconvert_exporter": "python",
   "pygments_lexer": "ipython3",
   "version": "3.6.8"
  }
 },
 "nbformat": 4,
 "nbformat_minor": 2
}
